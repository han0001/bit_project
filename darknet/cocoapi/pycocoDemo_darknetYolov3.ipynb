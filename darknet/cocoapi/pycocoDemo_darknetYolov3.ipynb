{
 "cells": [
  {
   "cell_type": "code",
   "execution_count": 3,
   "metadata": {},
   "outputs": [],
   "source": [
    "# cocodata set을 이용한 이미지파일과 라벨링파일 추출\n",
    "# darknet yolov3 학습을 위한 포맷으로 추출함.\n",
    "\n",
    "# 사용법 : 차례대로 run하고 주석 중 @@을 포함한 곳 수정 \n",
    "# 결과물 : cocodata를 파싱하여 사용자가 설정한 폴더경로로 img, label, train.txt을 추출함"
   ]
  },
  {
   "cell_type": "code",
   "execution_count": 2,
   "metadata": {},
   "outputs": [],
   "source": [
    "#필요 패키지\n",
    "%matplotlib inline\n",
    "from pycocotools.coco import COCO\n",
    "import numpy as np\n",
    "import skimage.io as io\n",
    "import matplotlib.pyplot as plt\n",
    "import pylab\n",
    "pylab.rcParams['figure.figsize'] = (8.0, 10.0)"
   ]
  },
  {
   "cell_type": "code",
   "execution_count": 3,
   "metadata": {
    "scrolled": true
   },
   "outputs": [],
   "source": [
    "#경로 및 cocodata버전 설정@@\n",
    "\n",
    "#사진 데이터가 있는 폴더\n",
    "dataDir='/home/user1/work/cocodataset/train2017/' #마지막 /(슬레시) 꼭 넣더\n",
    "#coco사이트에서 받은 버전\n",
    "dataType='train2017'\n",
    "#annotation파일이 존재하는 폴더, 파일이름.파일형식 까지 \n",
    "annFile='/home/user1/cocoapi/PythonAPI/anns/instances_{}.json'.format(dataType)\n",
    "#최종 결과물(img, label, train.txt)가 저장될 경로\n",
    "parserFolder = \"/home/user1/parsertest/\" #마지막 /(슬레시)까지 꼭 쓰기    "
   ]
  },
  {
   "cell_type": "code",
   "execution_count": 4,
   "metadata": {},
   "outputs": [
    {
     "name": "stdout",
     "output_type": "stream",
     "text": [
      "loading annotations into memory...\n",
      "Done (t=14.23s)\n",
      "creating index...\n",
      "index created!\n"
     ]
    }
   ],
   "source": [
    "# initialize COCO api for instance annotations\n",
    "coco=COCO(annFile)"
   ]
  },
  {
   "cell_type": "code",
   "execution_count": 8,
   "metadata": {},
   "outputs": [
    {
     "name": "stdout",
     "output_type": "stream",
     "text": [
      "person is max : 64115\n",
      "dog is max : 4385\n"
     ]
    }
   ],
   "source": [
    "# 1. 필요한 클래스를 수정 후 run\n",
    "# 2. 클래스당 max값 확인, 개수 설정 후 run\n",
    "class_infos = {\"dog\" : 10, \"person\" : 10} #사용자가 필요한 class와 개수 설정  @@\n",
    "\n",
    "\n",
    "for className in class_infos.keys():\n",
    "    catIds = coco.getCatIds(catNms=[className]);\n",
    "    imgIds = coco.getImgIds(catIds=catIds);\n",
    "    print(className + \" is max : \" + str(len(imgIds)))"
   ]
  },
  {
   "cell_type": "code",
   "execution_count": 8,
   "metadata": {},
   "outputs": [],
   "source": [
    "#run \n",
    "import shutil\n",
    "import os\n",
    "\n",
    "def namesInFolder(folderName, fileType):\n",
    "    fileNames = \"\"\n",
    "    for file in os.listdir(folderName):\n",
    "        if str(file[-3:])== fileType :\n",
    "            fileNames = fileNames + file + \"\\n\"\n",
    "    return fileNames\n",
    "            \n",
    "        \n",
    "def copyImg(fromFile, toFile):\n",
    "    shutil.copy(fromFile, toFile)\n",
    "\n",
    "def creatTxt(fileName, context):\n",
    "    f = open(fileName, 'a')  \n",
    "    f.write(context)\n",
    "    f.close()\n",
    "\n",
    "def annsParsMain(parserFolder, class_infos, dataDir):\n",
    "    for idx, (className, classImgCnt) in enumerate(class_infos.items()): #class 개수 만큼 반복        \n",
    "        catIds = coco.getCatIds(catNms=[className]) #class이름 저장 \n",
    "        imgIds = coco.getImgIds(catIds=catIds)[:classImgCnt] #이미지 데이터 리스트 저장 \n",
    "        for imgId in imgIds: #위에서 설정한 class당 이미지 개수 만큼 반복 \n",
    "            img = coco.loadImgs(imgId)[0] \n",
    "            annIds = coco.getAnnIds(imgIds=img['id'], catIds=catIds, iscrowd=None)                  \n",
    "            a_text = \"\"\n",
    "            for anns in annIds[:11]:    \n",
    "                anns = coco.loadAnns(anns)\n",
    "                ann = anns[0]['bbox']\n",
    "\n",
    "                #catid  = str(catIds[0]-1)\n",
    "                catid  = str(idx)\n",
    "                width  = img['width']\n",
    "                height = img['height']\n",
    "                a_x    = format((ann[0]+(ann[2]/2)) / width, \"6f\")\n",
    "                a_y    = format((ann[1]+(ann[3]/2)) / height, \"6f\")\n",
    "                a_w    = format(ann[2]/width-0.000001, \"6f\")\n",
    "                a_h    = format(ann[3]/height-0.000001, \"6f\")\n",
    "\n",
    "                a_text = a_text + catid + \" \" + a_x + \" \" + a_y + \" \" + a_w + \" \" + a_h + \"\\n\"\n",
    "            creatTxt(parserFolder + img['file_name'].replace(\"jpg\",\"txt\"), a_text)\n",
    "            copyImg(dataDir + img['file_name'], parserFolder )\n",
    "            print(parserFolder + img['file_name'].replace(\"jpg\",\"txt\"))\n",
    "            print(dataDir + img['file_name'])"
   ]
  },
  {
   "cell_type": "code",
   "execution_count": 9,
   "metadata": {
    "scrolled": false
   },
   "outputs": [
    {
     "name": "stdout",
     "output_type": "stream",
     "text": [
      "/home/user1/parsertest/000000262145.txt\n",
      "/home/user1/work/cocodataset/train2017/000000262145.jpg\n",
      "/home/user1/parsertest/000000262146.txt\n",
      "/home/user1/work/cocodataset/train2017/000000262146.jpg\n",
      "/home/user1/parsertest/000000524291.txt\n",
      "/home/user1/work/cocodataset/train2017/000000524291.jpg\n",
      "/home/user1/parsertest/000000262148.txt\n",
      "/home/user1/work/cocodataset/train2017/000000262148.jpg\n",
      "/home/user1/parsertest/000000393223.txt\n",
      "/home/user1/work/cocodataset/train2017/000000393223.jpg\n",
      "/home/user1/parsertest/000000393224.txt\n",
      "/home/user1/work/cocodataset/train2017/000000393224.jpg\n",
      "/home/user1/parsertest/000000524297.txt\n",
      "/home/user1/work/cocodataset/train2017/000000524297.jpg\n",
      "/home/user1/parsertest/000000393227.txt\n",
      "/home/user1/work/cocodataset/train2017/000000393227.jpg\n",
      "/home/user1/parsertest/000000131084.txt\n",
      "/home/user1/work/cocodataset/train2017/000000131084.jpg\n",
      "/home/user1/parsertest/000000393230.txt\n",
      "/home/user1/work/cocodataset/train2017/000000393230.jpg\n",
      "/home/user1/parsertest/000000098304.txt\n",
      "/home/user1/work/cocodataset/train2017/000000098304.jpg\n",
      "/home/user1/parsertest/000000204800.txt\n",
      "/home/user1/work/cocodataset/train2017/000000204800.jpg\n",
      "/home/user1/parsertest/000000524291.txt\n",
      "/home/user1/work/cocodataset/train2017/000000524291.jpg\n",
      "/home/user1/parsertest/000000311301.txt\n",
      "/home/user1/work/cocodataset/train2017/000000311301.jpg\n",
      "/home/user1/parsertest/000000377804.txt\n",
      "/home/user1/work/cocodataset/train2017/000000377804.jpg\n",
      "/home/user1/parsertest/000000147471.txt\n",
      "/home/user1/work/cocodataset/train2017/000000147471.jpg\n",
      "/home/user1/parsertest/000000345432.txt\n",
      "/home/user1/work/cocodataset/train2017/000000345432.jpg\n",
      "/home/user1/parsertest/000000450910.txt\n",
      "/home/user1/work/cocodataset/train2017/000000450910.jpg\n",
      "/home/user1/parsertest/000000113326.txt\n",
      "/home/user1/work/cocodataset/train2017/000000113326.jpg\n",
      "/home/user1/parsertest/000000581654.txt\n",
      "/home/user1/work/cocodataset/train2017/000000581654.jpg\n"
     ]
    }
   ],
   "source": [
    "#run \n",
    "if __name__ == \"__main__\":\n",
    "    annsParsMain(parserFolder, class_infos, dataDir)\n",
    "    creatTxt(parserFolder + \"0list.txt\", namesInFolder(parserFolder, \"jpg\"))"
   ]
  }
 ],
 "metadata": {
  "kernelspec": {
   "display_name": "Python 2",
   "language": "python",
   "name": "python2"
  },
  "language_info": {
   "codemirror_mode": {
    "name": "ipython",
    "version": 2
   },
   "file_extension": ".py",
   "mimetype": "text/x-python",
   "name": "python",
   "nbconvert_exporter": "python",
   "pygments_lexer": "ipython2",
   "version": "2.7.15+"
  }
 },
 "nbformat": 4,
 "nbformat_minor": 2
}
